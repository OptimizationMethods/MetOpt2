{
 "cells": [
  {
   "cell_type": "code",
   "execution_count": 2,
   "id": "2e6cbc5c",
   "metadata": {},
   "outputs": [],
   "source": [
    "import pandas as pd\n",
    "\n",
    "from functions import *\n",
    "\n",
    "from methods import *\n",
    "\n",
    "from gradient_descent import *\n",
    "\n",
    "from numpy.typing import NDArray\n",
    "\n",
    "from typing import Any"
   ]
  },
  {
   "cell_type": "code",
   "execution_count": 3,
   "id": "51b4f435",
   "metadata": {},
   "outputs": [],
   "source": [
    "def compare_methods_1(X0: NDArray) -> dict[str, Any]:\n",
    "    \"\"\"\n",
    "    Task 1 - сравните свою реализацию метода Ньютона с методом\n",
    "    Newton-CG из библиотеки scipy.optimize (по точности и скорости)\n",
    "    :param X0: start point\n",
    "    \"\"\"\n",
    "    newton_x, newton_iters = newton_method(f=rosenbrock, grad=grad_rosenbrock, hess=hessian_rosenbrock, x0=X0)\n",
    "    scipy_x, scipy_iters = scipy_methods(method_type=\"Newton-CG\", point=X0, function=rosenbrock,\n",
    "                                         grad_func=grad_rosenbrock, hessian=hessian_rosenbrock)\n",
    "    return {\"newton_x\": newton_x, \"newton_iters\": newton_iters, \"scipy_x\": scipy_x, \"scipy_iters\": scipy_iters}"
   ]
  },
  {
   "cell_type": "code",
   "execution_count": 5,
   "id": "5a5a99c9",
   "metadata": {},
   "outputs": [],
   "source": [
    "def compare_methods_2(X0: NDArray) -> dict[str, Real]:\n",
    "    \"\"\"\n",
    "    Task 2 - сравните эффективность методов нулевого порядка\n",
    "    и градиентного спуска из лаб 1., метода Ньютона, квазиньютоновских методов.\n",
    "    :param X0: start point\n",
    "    \"\"\"\n",
    "    golden_x, golden_iter = golden_section_search(f=himmelblau)\n",
    "    tern_x, tern_iter = ternary_search(f=himmelblau)\n",
    "    grad_x, grad_y, grad_iter, grad_time, grad_traj = gradient_descent_mult(f=himmelblau, grad=grad_himmelblau, X=X0,\n",
    "                                                                       selection_method=golden_section_search_mult)\n",
    "    newton_x_our, newton_iter_our = newton_one_dim_search(f=himmelblau, grad_f=grad_himmelblau, hessian_f=hessian_himmelblau,\n",
    "                                                  X0=X0)\n",
    "    newton_x, newton_iter = scipy_methods(method_type=\"Newton-CG\", point=X0, function=himmelblau,\n",
    "                                          grad_func=grad_himmelblau, hessian=hessian_himmelblau)\n",
    "    newton_x_BFGS, newton_iter_BFGS = scipy_methods(method_type=\"BFGS\", point=X0, function=himmelblau,\n",
    "                                                    grad_func=grad_himmelblau, hessian=hessian_himmelblau)\n",
    "    return {\"golden_x\": golden_x, \"golden_iter\": golden_iter, \"tern_x\": tern_x, \"tern_iter\": tern_iter,\n",
    "            \"grad_x\": grad_x, \"grad_iter\": grad_iter, \"newton_x_our\": newton_x_our, \"newton_iter_our\": newton_iter_our,\n",
    "            \"newton_x\": newton_x, \"newton_iter\": newton_iter,\n",
    "            \"newton_x_BFGS\": newton_x_BFGS, \"newton_iter_BFGS\": newton_iter_BFGS}"
   ]
  },
  {
   "cell_type": "code",
   "execution_count": 6,
   "id": "9eefb4a4",
   "metadata": {},
   "outputs": [],
   "source": [
    "def compare_methods_3(X0: NDArray) -> dict[str, Any]:\n",
    "    \"\"\"\n",
    "    Task 3 - сравните эффективность методов нулевого порядка с квазиньютоновскими методами,\n",
    "    если в последних производная вычисляется разностным методом\n",
    "    \"\"\"\n",
    "    grad_x, grad_y, grad_iter, grad_time, grad_traj = gradient_descent_mult(f=himmelblau, grad=grad_himmelblau, X=X0,\n",
    "                                                                       selection_method=golden_section_search_mult)\n",
    "\n",
    "    newton_x_BFGS, newton_iter_BFGS = scipy_methods(method_type=\"BFGS\", point=X0, function=himmelblau,\n",
    "                                                    jac='2-point',\n",
    "                                                    hessian=hessian_himmelblau)\n",
    "    return {\"grad_x\": grad_x, \"grad_iter\": grad_iter,\n",
    "            \"newton_x_BFGS\": newton_x_BFGS, \"newton_iter_BFGS\": newton_iter_BFGS}"
   ]
  },
  {
   "cell_type": "code",
   "execution_count": 7,
   "id": "787cc7a5",
   "metadata": {},
   "outputs": [],
   "source": [
    "def display_results() -> None:\n",
    "    X0 = np.array([0, 0])\n",
    "    results_1 = compare_methods_1(X0)\n",
    "    results_2 = compare_methods_2(X0)\n",
    "    results_3 = compare_methods_3(X0)\n",
    "\n",
    "    data1 = {\n",
    "        \"1\": [\"Our Newton\", \"Scipy Newton-CG\"],\n",
    "        \"x\": [results_1['newton_x'], results_1['scipy_x']],\n",
    "        \"iters\": [results_1['newton_iters'], results_1['scipy_iters']]\n",
    "    }\n",
    "\n",
    "\n",
    "    data2 = {\n",
    "        \"Method\": [\"Golden Search\", \"Ternary Search\", \"Gradient Descent\", \"Our Newton\", \"Scipy Newton-CG\", \"Scipy BFGS\"],\n",
    "        \"x\": [results_2['golden_x'], results_2['tern_x'], results_2['grad_x'], results_2['newton_x_our'], results_2['newton_x'], results_2['newton_x_BFGS']],\n",
    "        \"iter\": [results_2['golden_iter'], results_2['tern_iter'], results_2['grad_iter'], results_2['newton_iter_our'], results_2['newton_iter'], results_2['newton_iter_BFGS']]\n",
    "    }\n",
    "\n",
    "    data3 = {\n",
    "        \"Method\": [\"Gradient Descent\", \"Scipy BFGS\"],\n",
    "        \"x\": [results_3['grad_x'], results_3['newton_x_BFGS']],\n",
    "        \"grad_iter\": [results_3['grad_iter'], results_3['newton_iter_BFGS']]\n",
    "    }\n",
    "\n",
    "    df1 = pd.DataFrame(data1)\n",
    "    df2 = pd.DataFrame(data2)\n",
    "    df3 = pd.DataFrame(data3)\n",
    "    return df1, df2, df3"
   ]
  },
  {
   "cell_type": "code",
   "execution_count": 8,
   "id": "d2b4d1d5",
   "metadata": {},
   "outputs": [
    {
     "name": "stdout",
     "output_type": "stream",
     "text": [
      "newton_method executed in 0.000926 seconds.\n",
      "scipy_methods executed in 0.005948 seconds.\n",
      "golden_section_search executed in 0.000418 seconds.\n",
      "ternary_search executed in 0.000396 seconds.\n",
      "newton_one_dim_search executed in 0.001149 seconds.\n",
      "scipy_methods executed in 0.001197 seconds.\n",
      "Average execution time: 0.003572 seconds over 2 calls.\n",
      "scipy_methods executed in 0.001320 seconds.\n",
      "Average execution time: 0.002822 seconds over 3 calls.\n",
      "scipy_methods executed in 0.002378 seconds.\n",
      "Average execution time: 0.002711 seconds over 4 calls.\n"
     ]
    }
   ],
   "source": [
    "results = display_results()"
   ]
  },
  {
   "cell_type": "code",
   "execution_count": 9,
   "id": "d6c21727",
   "metadata": {},
   "outputs": [
    {
     "data": {
      "text/html": [
       "<div>\n",
       "<style scoped>\n",
       "    .dataframe tbody tr th:only-of-type {\n",
       "        vertical-align: middle;\n",
       "    }\n",
       "\n",
       "    .dataframe tbody tr th {\n",
       "        vertical-align: top;\n",
       "    }\n",
       "\n",
       "    .dataframe thead th {\n",
       "        text-align: right;\n",
       "    }\n",
       "</style>\n",
       "<table border=\"1\" class=\"dataframe\">\n",
       "  <thead>\n",
       "    <tr style=\"text-align: right;\">\n",
       "      <th></th>\n",
       "      <th>1</th>\n",
       "      <th>x</th>\n",
       "      <th>iters</th>\n",
       "    </tr>\n",
       "  </thead>\n",
       "  <tbody>\n",
       "    <tr>\n",
       "      <th>0</th>\n",
       "      <td>Our Newton</td>\n",
       "      <td>[1.0, 1.0]</td>\n",
       "      <td>3</td>\n",
       "    </tr>\n",
       "    <tr>\n",
       "      <th>1</th>\n",
       "      <td>Scipy Newton-CG</td>\n",
       "      <td>[0.9999613706115487, 0.9999225878376522]</td>\n",
       "      <td>33</td>\n",
       "    </tr>\n",
       "  </tbody>\n",
       "</table>\n",
       "</div>"
      ],
      "text/plain": [
       "                 1                                         x  iters\n",
       "0       Our Newton                                [1.0, 1.0]      3\n",
       "1  Scipy Newton-CG  [0.9999613706115487, 0.9999225878376522]     33"
      ]
     },
     "execution_count": 9,
     "metadata": {},
     "output_type": "execute_result"
    }
   ],
   "source": [
    "# Task 1\n",
    "results[0]"
   ]
  },
  {
   "cell_type": "code",
   "execution_count": 10,
   "id": "db2779d5",
   "metadata": {},
   "outputs": [
    {
     "data": {
      "text/html": [
       "<div>\n",
       "<style scoped>\n",
       "    .dataframe tbody tr th:only-of-type {\n",
       "        vertical-align: middle;\n",
       "    }\n",
       "\n",
       "    .dataframe tbody tr th {\n",
       "        vertical-align: top;\n",
       "    }\n",
       "\n",
       "    .dataframe thead th {\n",
       "        text-align: right;\n",
       "    }\n",
       "</style>\n",
       "<table border=\"1\" class=\"dataframe\">\n",
       "  <thead>\n",
       "    <tr style=\"text-align: right;\">\n",
       "      <th></th>\n",
       "      <th>Method</th>\n",
       "      <th>x</th>\n",
       "      <th>iter</th>\n",
       "    </tr>\n",
       "  </thead>\n",
       "  <tbody>\n",
       "    <tr>\n",
       "      <th>0</th>\n",
       "      <td>Golden Search</td>\n",
       "      <td>1.0</td>\n",
       "      <td>58</td>\n",
       "    </tr>\n",
       "    <tr>\n",
       "      <th>1</th>\n",
       "      <td>Ternary Search</td>\n",
       "      <td>1.0</td>\n",
       "      <td>69</td>\n",
       "    </tr>\n",
       "    <tr>\n",
       "      <th>2</th>\n",
       "      <td>Gradient Descent</td>\n",
       "      <td>2.999992</td>\n",
       "      <td>13</td>\n",
       "    </tr>\n",
       "    <tr>\n",
       "      <th>3</th>\n",
       "      <td>Our Newton</td>\n",
       "      <td>[-0.2708445906694456, -0.9230385564663784]</td>\n",
       "      <td>5</td>\n",
       "    </tr>\n",
       "    <tr>\n",
       "      <th>4</th>\n",
       "      <td>Scipy Newton-CG</td>\n",
       "      <td>[2.9999999999998805, 2.00000000000055]</td>\n",
       "      <td>8</td>\n",
       "    </tr>\n",
       "    <tr>\n",
       "      <th>5</th>\n",
       "      <td>Scipy BFGS</td>\n",
       "      <td>[2.9999999477827064, 1.9999999956937438]</td>\n",
       "      <td>10</td>\n",
       "    </tr>\n",
       "  </tbody>\n",
       "</table>\n",
       "</div>"
      ],
      "text/plain": [
       "             Method                                           x  iter\n",
       "0     Golden Search                                         1.0    58\n",
       "1    Ternary Search                                         1.0    69\n",
       "2  Gradient Descent                                    2.999992    13\n",
       "3        Our Newton  [-0.2708445906694456, -0.9230385564663784]     5\n",
       "4   Scipy Newton-CG      [2.9999999999998805, 2.00000000000055]     8\n",
       "5        Scipy BFGS    [2.9999999477827064, 1.9999999956937438]    10"
      ]
     },
     "execution_count": 10,
     "metadata": {},
     "output_type": "execute_result"
    }
   ],
   "source": [
    "# Task 2\n",
    "results[1]"
   ]
  },
  {
   "cell_type": "code",
   "execution_count": 11,
   "id": "8bb55c85",
   "metadata": {},
   "outputs": [
    {
     "data": {
      "text/html": [
       "<div>\n",
       "<style scoped>\n",
       "    .dataframe tbody tr th:only-of-type {\n",
       "        vertical-align: middle;\n",
       "    }\n",
       "\n",
       "    .dataframe tbody tr th {\n",
       "        vertical-align: top;\n",
       "    }\n",
       "\n",
       "    .dataframe thead th {\n",
       "        text-align: right;\n",
       "    }\n",
       "</style>\n",
       "<table border=\"1\" class=\"dataframe\">\n",
       "  <thead>\n",
       "    <tr style=\"text-align: right;\">\n",
       "      <th></th>\n",
       "      <th>Method</th>\n",
       "      <th>x</th>\n",
       "      <th>grad_iter</th>\n",
       "    </tr>\n",
       "  </thead>\n",
       "  <tbody>\n",
       "    <tr>\n",
       "      <th>0</th>\n",
       "      <td>Gradient Descent</td>\n",
       "      <td>2.999992</td>\n",
       "      <td>13</td>\n",
       "    </tr>\n",
       "    <tr>\n",
       "      <th>1</th>\n",
       "      <td>Scipy BFGS</td>\n",
       "      <td>[2.999999925994388, 1.9999999936093653]</td>\n",
       "      <td>10</td>\n",
       "    </tr>\n",
       "  </tbody>\n",
       "</table>\n",
       "</div>"
      ],
      "text/plain": [
       "             Method                                        x  grad_iter\n",
       "0  Gradient Descent                                 2.999992         13\n",
       "1        Scipy BFGS  [2.999999925994388, 1.9999999936093653]         10"
      ]
     },
     "execution_count": 11,
     "metadata": {},
     "output_type": "execute_result"
    }
   ],
   "source": [
    "# Task 3\n",
    "results[2]"
   ]
  },
  {
   "cell_type": "code",
   "execution_count": null,
   "id": "f3abcad8",
   "metadata": {},
   "outputs": [],
   "source": []
  }
 ],
 "metadata": {
  "kernelspec": {
   "display_name": "Python 3 (ipykernel)",
   "language": "python",
   "name": "python3"
  },
  "language_info": {
   "codemirror_mode": {
    "name": "ipython",
    "version": 3
   },
   "file_extension": ".py",
   "mimetype": "text/x-python",
   "name": "python",
   "nbconvert_exporter": "python",
   "pygments_lexer": "ipython3",
   "version": "3.9.12"
  }
 },
 "nbformat": 4,
 "nbformat_minor": 5
}
