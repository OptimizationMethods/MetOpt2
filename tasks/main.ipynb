{
 "cells": [
  {
   "cell_type": "code",
   "execution_count": 10,
   "id": "2e6cbc5c",
   "metadata": {},
   "outputs": [],
   "source": [
    "import pandas as pd\n",
    "\n",
    "from functions import *\n",
    "\n",
    "from methods import *\n",
    "\n",
    "from gradient_descent import *\n",
    "\n",
    "from numpy.typing import NDArray\n",
    "\n",
    "from typing import Any"
   ]
  },
  {
   "cell_type": "code",
   "execution_count": 11,
   "id": "51b4f435",
   "metadata": {},
   "outputs": [],
   "source": [
    "def compare_methods_1(X0: NDArray) -> dict[str, Any]:\n",
    "    \"\"\"\n",
    "    Task 1 - сравните свою реализацию метода Ньютона с методом\n",
    "    Newton-CG из библиотеки scipy.optimize (по точности и скорости)\n",
    "    :param X0: start point\n",
    "    \"\"\"\n",
    "    newton_x, newton_iters = newton_method(f=rosenbrock, grad=grad_rosenbrock, hess=hessian_rosenbrock, x0=X0)\n",
    "    scipy_x, scipy_iters = scipy_methods(method_type=\"Newton-CG\", point=X0, function=rosenbrock,\n",
    "                                         grad_func=grad_rosenbrock, hessian=hessian_rosenbrock)\n",
    "    return {\"newton_x\": newton_x, \"newton_iters\": newton_iters, \"scipy_x\": scipy_x, \"scipy_iters\": scipy_iters}"
   ]
  },
  {
   "cell_type": "code",
   "execution_count": 12,
   "id": "5a5a99c9",
   "metadata": {},
   "outputs": [],
   "source": [
    "def compare_methods_2(X0: NDArray) -> dict[str, Real]:\n",
    "    \"\"\"\n",
    "    Task 2 - сравните эффективность методов нулевого порядка\n",
    "    и градиентного спуска из лаб 1., метода Ньютона, квазиньютоновских методов.\n",
    "    :param X0: start point\n",
    "    \"\"\"\n",
    "    grad_x, grad_y, grad_iter, grad_time, grad_traj = gradient_descent_mult(f=rosenbrock, grad=grad_rosenbrock, X=X0,\n",
    "                                                                       selection_method=golden_section_search_mult)\n",
    "    newton_x_our, newton_iter_our = newton_with_dichotomy_search_2d(f=rosenbrock, grad_f=grad_rosenbrock, hessian_f=hessian_rosenbrock, x0=X0)\n",
    "    newton_x, newton_iter = scipy_methods(method_type=\"Newton-CG\", point=X0, function=rosenbrock,\n",
    "                                          grad_func=grad_rosenbrock, hessian=hessian_rosenbrock)\n",
    "    newton_x_BFGS, newton_iter_BFGS = scipy_methods(method_type=\"BFGS\", point=X0, function=rosenbrock,\n",
    "                                                    grad_func=grad_rosenbrock, hessian=hessian_rosenbrock)\n",
    "    return {\"grad_x\": [grad_x, grad_y], \"grad_iter\": grad_iter, \"newton_x_our\": newton_x_our, \"newton_iter_our\": newton_iter_our,\n",
    "            \"newton_x\": newton_x, \"newton_iter\": newton_iter,\n",
    "            \"newton_x_BFGS\": newton_x_BFGS, \"newton_iter_BFGS\": newton_iter_BFGS}"
   ]
  },
  {
   "cell_type": "code",
   "execution_count": 13,
   "id": "9eefb4a4",
   "metadata": {},
   "outputs": [],
   "source": [
    "def compare_methods_3(X0: NDArray) -> dict[str, Any]:\n",
    "    \"\"\"\n",
    "    Task 3 - сравните эффективность методов нулевого порядка с квазиньютоновскими методами,\n",
    "    если в последних производная вычисляется разностным методом\n",
    "    \"\"\"\n",
    "    grad_x, grad_y, grad_iter, grad_time, grad_traj = gradient_descent_mult(f=himmelblau, grad=grad_himmelblau, X=X0,\n",
    "                                                                       selection_method=golden_section_search_mult)\n",
    "\n",
    "    newton_x_BFGS, newton_iter_BFGS = scipy_methods(method_type=\"BFGS\", point=X0, function=himmelblau,\n",
    "                                                    jac='2-point',\n",
    "                                                    hessian=hessian_himmelblau)\n",
    "    return {\"grad_x\": [grad_x, grad_y], \"grad_iter\": grad_iter,\n",
    "            \"newton_x_BFGS\": newton_x_BFGS, \"newton_iter_BFGS\": newton_iter_BFGS}"
   ]
  },
  {
   "cell_type": "code",
   "execution_count": 19,
   "id": "787cc7a5",
   "metadata": {},
   "outputs": [],
   "source": [
    "def display_results() -> None:\n",
    "    X0 = np.array([1, 1])\n",
    "    results_1 = compare_methods_1(X0)\n",
    "    results_2 = compare_methods_2(X0)\n",
    "    results_3 = compare_methods_3(X0)\n",
    "\n",
    "    data1 = {\n",
    "        \"1\": [\"Our Newton\", \"Scipy Newton-CG\"],\n",
    "        \"x\": [results_1['newton_x'], results_1['scipy_x']],\n",
    "        \"iters\": [results_1['newton_iters'], results_1['scipy_iters']]\n",
    "    }\n",
    "\n",
    "\n",
    "    data2 = {\n",
    "        \"Method\": [\"Gradient Descent (Golden Section search)\", \"Our Newton\", \"Scipy Newton-CG\", \"Scipy BFGS\"],\n",
    "        \"x\": [results_2['grad_x'], results_2['newton_x_our'], results_2['newton_x'], results_2['newton_x_BFGS']],\n",
    "        \"iter\": [results_2['grad_iter'], results_2['newton_iter_our'], results_2['newton_iter'], results_2['newton_iter_BFGS']]\n",
    "    }\n",
    "\n",
    "    data3 = {\n",
    "        \"Method\": [\"Gradient Descent\", \"Scipy BFGS\"],\n",
    "        \"x\": [results_3['grad_x'], results_3['newton_x_BFGS']],\n",
    "        \"grad_iter\": [results_3['grad_iter'], results_3['newton_iter_BFGS']]\n",
    "    }\n",
    "\n",
    "    df1 = pd.DataFrame(data1)\n",
    "    df2 = pd.DataFrame(data2)\n",
    "    df3 = pd.DataFrame(data3)\n",
    "    return df1, df2, df3"
   ]
  },
  {
   "cell_type": "code",
   "execution_count": 20,
   "id": "d2b4d1d5",
   "metadata": {},
   "outputs": [
    {
     "name": "stdout",
     "output_type": "stream",
     "text": [
      "newton_method executed in 0.000765 seconds.\n",
      "Average execution time: 0.003042 seconds over 3 calls.\n",
      "scipy_methods executed in 0.001865 seconds.\n",
      "Average execution time: 0.002863 seconds over 9 calls.\n",
      "scipy_methods executed in 0.000539 seconds.\n",
      "Average execution time: 0.002630 seconds over 10 calls.\n",
      "scipy_methods executed in 0.000290 seconds.\n",
      "Average execution time: 0.002418 seconds over 11 calls.\n",
      "scipy_methods executed in 0.004834 seconds.\n",
      "Average execution time: 0.002619 seconds over 12 calls.\n"
     ]
    }
   ],
   "source": [
    "results = display_results()"
   ]
  },
  {
   "cell_type": "code",
   "execution_count": 21,
   "id": "d6c21727",
   "metadata": {},
   "outputs": [
    {
     "data": {
      "text/html": [
       "<div>\n",
       "<style scoped>\n",
       "    .dataframe tbody tr th:only-of-type {\n",
       "        vertical-align: middle;\n",
       "    }\n",
       "\n",
       "    .dataframe tbody tr th {\n",
       "        vertical-align: top;\n",
       "    }\n",
       "\n",
       "    .dataframe thead th {\n",
       "        text-align: right;\n",
       "    }\n",
       "</style>\n",
       "<table border=\"1\" class=\"dataframe\">\n",
       "  <thead>\n",
       "    <tr style=\"text-align: right;\">\n",
       "      <th></th>\n",
       "      <th>1</th>\n",
       "      <th>x</th>\n",
       "      <th>iters</th>\n",
       "    </tr>\n",
       "  </thead>\n",
       "  <tbody>\n",
       "    <tr>\n",
       "      <th>0</th>\n",
       "      <td>Our Newton</td>\n",
       "      <td>[1.0, 1.0]</td>\n",
       "      <td>1</td>\n",
       "    </tr>\n",
       "    <tr>\n",
       "      <th>1</th>\n",
       "      <td>Scipy Newton-CG</td>\n",
       "      <td>[1.0, 1.0]</td>\n",
       "      <td>1</td>\n",
       "    </tr>\n",
       "  </tbody>\n",
       "</table>\n",
       "</div>"
      ],
      "text/plain": [
       "                 1           x  iters\n",
       "0       Our Newton  [1.0, 1.0]      1\n",
       "1  Scipy Newton-CG  [1.0, 1.0]      1"
      ]
     },
     "execution_count": 21,
     "metadata": {},
     "output_type": "execute_result"
    }
   ],
   "source": [
    "# Task 1\n",
    "results[0]"
   ]
  },
  {
   "cell_type": "code",
   "execution_count": 22,
   "id": "db2779d5",
   "metadata": {},
   "outputs": [
    {
     "data": {
      "text/html": [
       "<div>\n",
       "<style scoped>\n",
       "    .dataframe tbody tr th:only-of-type {\n",
       "        vertical-align: middle;\n",
       "    }\n",
       "\n",
       "    .dataframe tbody tr th {\n",
       "        vertical-align: top;\n",
       "    }\n",
       "\n",
       "    .dataframe thead th {\n",
       "        text-align: right;\n",
       "    }\n",
       "</style>\n",
       "<table border=\"1\" class=\"dataframe\">\n",
       "  <thead>\n",
       "    <tr style=\"text-align: right;\">\n",
       "      <th></th>\n",
       "      <th>Method</th>\n",
       "      <th>x</th>\n",
       "      <th>iter</th>\n",
       "    </tr>\n",
       "  </thead>\n",
       "  <tbody>\n",
       "    <tr>\n",
       "      <th>0</th>\n",
       "      <td>Gradient Descent (Golden Section search)</td>\n",
       "      <td>[1.0, 1.0]</td>\n",
       "      <td>1</td>\n",
       "    </tr>\n",
       "    <tr>\n",
       "      <th>1</th>\n",
       "      <td>Our Newton</td>\n",
       "      <td>[1.0, 1.0]</td>\n",
       "      <td>100</td>\n",
       "    </tr>\n",
       "    <tr>\n",
       "      <th>2</th>\n",
       "      <td>Scipy Newton-CG</td>\n",
       "      <td>[1.0, 1.0]</td>\n",
       "      <td>1</td>\n",
       "    </tr>\n",
       "    <tr>\n",
       "      <th>3</th>\n",
       "      <td>Scipy BFGS</td>\n",
       "      <td>[1.0, 1.0]</td>\n",
       "      <td>0</td>\n",
       "    </tr>\n",
       "  </tbody>\n",
       "</table>\n",
       "</div>"
      ],
      "text/plain": [
       "                                     Method           x  iter\n",
       "0  Gradient Descent (Golden Section search)  [1.0, 1.0]     1\n",
       "1                                Our Newton  [1.0, 1.0]   100\n",
       "2                           Scipy Newton-CG  [1.0, 1.0]     1\n",
       "3                                Scipy BFGS  [1.0, 1.0]     0"
      ]
     },
     "execution_count": 22,
     "metadata": {},
     "output_type": "execute_result"
    }
   ],
   "source": [
    "# Task 2\n",
    "results[1]"
   ]
  },
  {
   "cell_type": "code",
   "execution_count": 18,
   "id": "8bb55c85",
   "metadata": {},
   "outputs": [
    {
     "data": {
      "text/html": [
       "<div>\n",
       "<style scoped>\n",
       "    .dataframe tbody tr th:only-of-type {\n",
       "        vertical-align: middle;\n",
       "    }\n",
       "\n",
       "    .dataframe tbody tr th {\n",
       "        vertical-align: top;\n",
       "    }\n",
       "\n",
       "    .dataframe thead th {\n",
       "        text-align: right;\n",
       "    }\n",
       "</style>\n",
       "<table border=\"1\" class=\"dataframe\">\n",
       "  <thead>\n",
       "    <tr style=\"text-align: right;\">\n",
       "      <th></th>\n",
       "      <th>Method</th>\n",
       "      <th>x</th>\n",
       "      <th>grad_iter</th>\n",
       "    </tr>\n",
       "  </thead>\n",
       "  <tbody>\n",
       "    <tr>\n",
       "      <th>0</th>\n",
       "      <td>Gradient Descent</td>\n",
       "      <td>[2.9999920077731717, 2.0000114751406772]</td>\n",
       "      <td>13</td>\n",
       "    </tr>\n",
       "    <tr>\n",
       "      <th>1</th>\n",
       "      <td>Scipy BFGS</td>\n",
       "      <td>[2.999999925994452, 1.9999999936092823]</td>\n",
       "      <td>10</td>\n",
       "    </tr>\n",
       "  </tbody>\n",
       "</table>\n",
       "</div>"
      ],
      "text/plain": [
       "             Method                                         x  grad_iter\n",
       "0  Gradient Descent  [2.9999920077731717, 2.0000114751406772]         13\n",
       "1        Scipy BFGS   [2.999999925994452, 1.9999999936092823]         10"
      ]
     },
     "execution_count": 18,
     "metadata": {},
     "output_type": "execute_result"
    }
   ],
   "source": [
    "# Task 3\n",
    "results[2]"
   ]
  },
  {
   "cell_type": "code",
   "execution_count": null,
   "id": "f3abcad8",
   "metadata": {},
   "outputs": [],
   "source": []
  }
 ],
 "metadata": {
  "kernelspec": {
   "display_name": "Python 3 (ipykernel)",
   "language": "python",
   "name": "python3"
  },
  "language_info": {
   "codemirror_mode": {
    "name": "ipython",
    "version": 3
   },
   "file_extension": ".py",
   "mimetype": "text/x-python",
   "name": "python",
   "nbconvert_exporter": "python",
   "pygments_lexer": "ipython3",
   "version": "3.12.0"
  }
 },
 "nbformat": 4,
 "nbformat_minor": 5
}
